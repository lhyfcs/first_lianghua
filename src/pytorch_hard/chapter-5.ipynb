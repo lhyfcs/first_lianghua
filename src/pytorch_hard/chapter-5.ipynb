{
 "cells": [
  {
   "cell_type": "code",
   "execution_count": 21,
   "id": "exposed-script",
   "metadata": {},
   "outputs": [],
   "source": [
    "import numpy as np\n",
    "import torch\n",
    "import torch.nn as nn\n",
    "import torch.nn.functional as F\n",
    "import torch.optim as optim\n",
    "from torchvision import datasets, transforms\n"
   ]
  },
  {
   "cell_type": "code",
   "execution_count": 10,
   "id": "parental-track",
   "metadata": {},
   "outputs": [],
   "source": [
    "class Net(nn.Module):\n",
    "    def __init__(self):\n",
    "        super(Net, self).__init__()\n",
    "        self.conv1 = nn.Conv2d(1, 20, 5, 1) # 28 * 28 -> (28 + 1 - 5) 24 * 24\n",
    "        self.conv2 = nn.Conv2d(20, 50, 5, 1) # 20 * 20\n",
    "        self.fc1 = nn.Linear(4 * 4 * 50, 500)\n",
    "        self.fc2 = nn.Linear(500, 10)\n",
    "        \n",
    "    def forward(self, x):\n",
    "        x = F.relu(self.conv1(x)) # 20 * 24 * 24\n",
    "        x = F.max_pool2d(x, 2, 2) # 12 * 12\n",
    "        x = F.rule(self.conv2(x)) # 8 * 8\n",
    "        x = x.view(-1, 4 * 4 * 50) # 4 * 4\n",
    "        x = F.relu(self.fc1(x))\n",
    "        x = self.fc2(x)\n",
    "        return F.log_softmax(x, dim=1)"
   ]
  },
  {
   "cell_type": "code",
   "execution_count": 27,
   "id": "perfect-trick",
   "metadata": {},
   "outputs": [],
   "source": [
    "mnist_data = datasets.MNIST(\"./mnist_data\", train=True, download=True, \n",
    "               transform=transforms.Compose([transforms.ToTensor(),]))\n",
    "data = [d[0].data.cpu().numpy() for d in mnist_data]\n",
    "np.mean(data)\n",
    "np.std(data)\n",
    "\n",
    "def train(model, device, train_loader, optimizer, epoch):\n",
    "    model.train()\n",
    "    for idx, (data, target) in enumerate(train_loader):\n",
    "        data, target = data.to(device), target.to(device)\n",
    "        pred = model(data) # batch_size * 10\n",
    "        loss = F.nll_loss(pred, target)\n",
    "        # SGD\n",
    "        optimizer.zero_grad()\n",
    "        loss.backward()\n",
    "        optimizer.step()\n",
    "        if idx % 100 == 0:\n",
    "            print('Train epoch: {}, iteration: {}, Loss: {}'.format(epoch, idx, loss.item()))\n",
    "\n",
    "def test(model, device, train_loader):\n",
    "    model.eval()\n",
    "    total_loss = 0.\n",
    "    correct = 0.\n",
    "    with torch.no_grad():\n",
    "        for idx, (data, target) in enumerate(test_loader):\n",
    "            data, target = data.to(device), target.to(device)\n",
    "            output = model(data) # batch_size * 10\n",
    "            total_loss = F.nll_loss(output, target, reduction='sum').item()\n",
    "            pred = model(output).argmax(dim=1)\n",
    "            correct += pred.eq(target.view_as(pred)).sum()\n",
    "    total_loss /= len(test_loader.dataset)\n",
    "    acc = correct / len(test_loader.dataset) * 100\n",
    "    print('Test loss: {}, Accuracy: {}'.format(total_loss, acc))"
   ]
  },
  {
   "cell_type": "code",
   "execution_count": 18,
   "id": "serious-anniversary",
   "metadata": {},
   "outputs": [
    {
     "data": {
      "image/png": "[encoded data removed]",
      "text/plain": [
       "<PIL.Image.Image image mode=L size=28x28 at 0x7FF8984345B0>"
      ]
     },
     "execution_count": 18,
     "metadata": {},
     "output_type": "execute_result"
    }
   ],
   "source": [
    "device = torch.device('cpu')\n",
    "batch_size = 32\n",
    "\n",
    "# fasionMnist\n",
    "train_dataloader = torch.utils.data.DataLoader(datasets.MNIST(\"./mnist_data\", train=True, download=True, \n",
    "               transform=transforms.Compose([transforms.ToTensor(),\n",
    "                                            transforms.Normalize((0.13066062,),(0.30810776,))])),\n",
    "                batch_size = batch_size, shuffle=True, num_workders = 1, pin_memory=True)\n",
    "\n",
    "\n",
    "test_dataloader = torch.utils.data.DataLoader(datasets.MNIST(\"./mnist_data\", train=False, download=True, \n",
    "               transform=transforms.Compose([transforms.ToTensor(),\n",
    "                                            transforms.Normalize((0.13066062,),(0.30810776,))])),\n",
    "                batch_size = batch_size, shuffle=True, num_workders = 1, pin_memory=True)\n",
    "\n",
    "lr = 0.01\n",
    "momentum = 0.5\n",
    "model = Net().to(device)\n",
    "optimizer = torch.optim.SGD(model.parameters(), lr = lr, momentum=momentum)\n",
    "num_epochs = 2\n",
    "for epoch in range(num_epochs):\n",
    "    train(model, device, train_dataloader, optimizer, epoch)\n",
    "    test(model, device, test_dataloader)\n",
    "\n",
    "torch.save(model.state_dict(), 'mnist_cnn.pt')"
   ]
  }
 ],
 "metadata": {
  "kernelspec": {
   "display_name": "conda_jupyter",
   "language": "python",
   "name": "conda_jupyter"
  },
  "language_info": {
   "codemirror_mode": {
    "name": "ipython",
    "version": 3
   },
   "file_extension": ".py",
   "mimetype": "text/x-python",
   "name": "python",
   "nbconvert_exporter": "python",
   "pygments_lexer": "ipython3",
   "version": "3.8.5"
  }
 },
 "nbformat": 4,
 "nbformat_minor": 5
}
