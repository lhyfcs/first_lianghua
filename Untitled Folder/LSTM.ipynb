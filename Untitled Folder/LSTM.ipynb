{
 "cells": [
  {
   "cell_type": "code",
   "execution_count": 9,
   "id": "complimentary-retirement",
   "metadata": {},
   "outputs": [],
   "source": [
    "import torch\n",
    "import torch.nn.functional as F\n",
    "import torch.nn as nn\n",
    "from torch.autograd import Variable\n",
    "import matplotlib.pyplot as plt\n",
    "import torchvision\n",
    "import torch.utils.data as Data\n",
    "\n",
    "EPOCH = 1\n",
    "BATCH_SIZE = 64\n",
    "TIME_STEP=28  # RNN time step / image height\n",
    "INPUT_SIZE=28 # RNN input size / image width\n",
    "LR = 0.001\n",
    "\n",
    "DOWNLOAD_MNIST = False\n",
    "\n",
    "train_data = torchvision.datasets.MNIST('./mnist', train=True,\n",
    "                                       transform=torchvision.transforms.ToTensor(), # (0, 1)\n",
    "                                      download=DOWNLOAD_MNIST)\n",
    "\n",
    "train_loader = Data.DataLoader(dataset=train_data, batch_size=BATCH_SIZE, shuffle=True, num_workers=2)\n",
    "\n",
    "    \n",
    "test_data = torchvision.datasets.MNIST('./mnist', train=False)\n",
    "# !!!!!对比test_x数据size不同的原因\n",
    "test_x = Variable(test_data.test_data).type(torch.FloatTensor)[:2000]/255.\n",
    "test_y = test_data.test_labels[:2000]"
   ]
  },
  {
   "cell_type": "code",
   "execution_count": 10,
   "id": "activated-motel",
   "metadata": {},
   "outputs": [
    {
     "name": "stdout",
     "output_type": "stream",
     "text": [
      "RNN(\n",
      "  (rnn): LSTM(28, 64, batch_first=True)\n",
      "  (out): Linear(in_features=64, out_features=10, bias=True)\n",
      ")\n"
     ]
    }
   ],
   "source": [
    "class RNN(nn.Module):\n",
    "    def __init__(self):\n",
    "        super(RNN, self).__init__()\n",
    "        self.rnn = nn.LSTM(\n",
    "            input_size = INPUT_SIZE,\n",
    "            hidden_size=64,\n",
    "            num_layers=1,\n",
    "            batch_first=True, # (batch_size 在第一个维度\n",
    "        )\n",
    "        self.out = nn.Linear(64, 10)\n",
    "        \n",
    "    def forward(self, x):\n",
    "        r_out, (h_n, h_c) = self.rnn(x, None) # x (batch, time_step, input_size)\n",
    "        out = self.out(r_out[:, -1, :]) # (batch, time step, input)\n",
    "        return out\n",
    "    \n",
    "rnn = RNN()\n",
    "print(rnn)"
   ]
  },
  {
   "cell_type": "code",
   "execution_count": 11,
   "id": "clinical-equivalent",
   "metadata": {},
   "outputs": [
    {
     "name": "stdout",
     "output_type": "stream",
     "text": [
      "Epoch: 0 | train loss: 2.3051 |test accuracy:  tensor(0.0640)\n",
      "Epoch: 0 | train loss: 2.1680 |test accuracy:  tensor(0.2745)\n",
      "Epoch: 0 | train loss: 0.9911 |test accuracy:  tensor(0.6450)\n",
      "Epoch: 0 | train loss: 0.7635 |test accuracy:  tensor(0.7310)\n",
      "Epoch: 0 | train loss: 0.6982 |test accuracy:  tensor(0.7595)\n",
      "Epoch: 0 | train loss: 0.6176 |test accuracy:  tensor(0.8015)\n",
      "Epoch: 0 | train loss: 0.5222 |test accuracy:  tensor(0.8120)\n",
      "Epoch: 0 | train loss: 0.2994 |test accuracy:  tensor(0.8415)\n",
      "Epoch: 0 | train loss: 0.5543 |test accuracy:  tensor(0.8565)\n",
      "Epoch: 0 | train loss: 0.3093 |test accuracy:  tensor(0.8740)\n",
      "Epoch: 0 | train loss: 0.3367 |test accuracy:  tensor(0.8690)\n",
      "Epoch: 0 | train loss: 0.2942 |test accuracy:  tensor(0.8935)\n",
      "Epoch: 0 | train loss: 0.2943 |test accuracy:  tensor(0.8880)\n",
      "Epoch: 0 | train loss: 0.2389 |test accuracy:  tensor(0.9000)\n",
      "Epoch: 0 | train loss: 0.1913 |test accuracy:  tensor(0.9070)\n",
      "Epoch: 0 | train loss: 0.3112 |test accuracy:  tensor(0.9105)\n",
      "Epoch: 0 | train loss: 0.2143 |test accuracy:  tensor(0.9020)\n",
      "Epoch: 0 | train loss: 0.2849 |test accuracy:  tensor(0.9150)\n",
      "Epoch: 0 | train loss: 0.1699 |test accuracy:  tensor(0.9150)\n",
      "[7 2 1 0 4 1 4 9 5 9] prediction number\n",
      "[7 2 1 0 4 1 4 9 5 9]\n"
     ]
    }
   ],
   "source": [
    "optimizer = torch.optim.Adam(rnn.parameters(), lr=LR)\n",
    "loss_func = nn.CrossEntropyLoss()\n",
    "\n",
    "for epoch in range(EPOCH):\n",
    "    for step, (batch_x, batch_y) in enumerate(train_loader):\n",
    "        b_x = Variable(batch_x.view(-1, 28, 28)) # reshape x to (batch_size, time step, input_size)\n",
    "        b_y = Variable(batch_y)\n",
    "        \n",
    "        output = rnn(b_x)\n",
    "        \n",
    "        loss = loss_func(output, b_y)\n",
    "        \n",
    "        optimizer.zero_grad()\n",
    "        loss.backward()\n",
    "        optimizer.step()\n",
    "        \n",
    "        if step % 50 == 0:\n",
    "            test_output = rnn(test_x)\n",
    "            pred_y = torch.max(test_output, 1)[1].data.squeeze()\n",
    "            accuracy = sum(pred_y == test_y) / test_y.size(0)\n",
    "            print('Epoch:', epoch, '| train loss: %.4f' % loss.item(), \n",
    "                  '|test accuracy: ', accuracy)\n",
    "            \n",
    "test_output = rnn(test_x[:10])\n",
    "pred_y = torch.max(test_output, 1)[1].data.numpy().squeeze()\n",
    "print(pred_y, 'prediction number')\n",
    "print(test_y[:10].numpy())"
   ]
  },
  {
   "cell_type": "code",
   "execution_count": null,
   "id": "legal-closure",
   "metadata": {},
   "outputs": [],
   "source": []
  }
 ],
 "metadata": {
  "kernelspec": {
   "display_name": "conda_jupyter",
   "language": "python",
   "name": "conda_jupyter"
  },
  "language_info": {
   "codemirror_mode": {
    "name": "ipython",
    "version": 3
   },
   "file_extension": ".py",
   "mimetype": "text/x-python",
   "name": "python",
   "nbconvert_exporter": "python",
   "pygments_lexer": "ipython3",
   "version": "3.8.5"
  }
 },
 "nbformat": 4,
 "nbformat_minor": 5
}
