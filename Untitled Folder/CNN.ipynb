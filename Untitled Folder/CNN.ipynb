{
 "cells": [
  {
   "cell_type": "code",
   "execution_count": 21,
   "id": "alternate-plane",
   "metadata": {},
   "outputs": [
    {
     "ename": "TypeError",
     "evalue": "__init__() got an unexpected keyword argument 'one_hot'",
     "output_type": "error",
     "traceback": [
      "\u001b[0;31m----------------------------------------------------------------------\u001b[0m",
      "\u001b[0;31mTypeError\u001b[0m                            Traceback (most recent call last)",
      "\u001b[0;32m<ipython-input-21-a18ad7a58dc0>\u001b[0m in \u001b[0;36m<module>\u001b[0;34m\u001b[0m\n\u001b[1;32m     13\u001b[0m \u001b[0mDOWNLOAD_MNIST\u001b[0m \u001b[0;34m=\u001b[0m \u001b[0;32mFalse\u001b[0m\u001b[0;34m\u001b[0m\u001b[0;34m\u001b[0m\u001b[0m\n\u001b[1;32m     14\u001b[0m \u001b[0;34m\u001b[0m\u001b[0m\n\u001b[0;32m---> 15\u001b[0;31m train_data = torchvision.datasets.MNIST('./mnist', train=True,\n\u001b[0m\u001b[1;32m     16\u001b[0m                                        \u001b[0mtransform\u001b[0m\u001b[0;34m=\u001b[0m\u001b[0mtorchvision\u001b[0m\u001b[0;34m.\u001b[0m\u001b[0mtransforms\u001b[0m\u001b[0;34m.\u001b[0m\u001b[0mToTensor\u001b[0m\u001b[0;34m(\u001b[0m\u001b[0;34m)\u001b[0m\u001b[0;34m,\u001b[0m \u001b[0;31m# (0, 1)\u001b[0m\u001b[0;34m\u001b[0m\u001b[0;34m\u001b[0m\u001b[0m\n\u001b[1;32m     17\u001b[0m                                       \u001b[0mdownload\u001b[0m\u001b[0;34m=\u001b[0m\u001b[0mDOWNLOAD_MNIST\u001b[0m\u001b[0;34m,\u001b[0m\u001b[0;34m\u001b[0m\u001b[0;34m\u001b[0m\u001b[0m\n",
      "\u001b[0;31mTypeError\u001b[0m: __init__() got an unexpected keyword argument 'one_hot'"
     ]
    }
   ],
   "source": [
    "import torch\n",
    "import torch.nn.functional as F\n",
    "import torch.nn as nn\n",
    "from torch.autograd import Variable\n",
    "import matplotlib.pyplot as plt\n",
    "import torchvision\n",
    "import torch.utils.data as Data\n",
    "\n",
    "EPOCH = 1\n",
    "BATCH_SIZE = 50\n",
    "LR = 0.001\n",
    "\n",
    "DOWNLOAD_MNIST = False\n",
    "\n",
    "train_data = torchvision.datasets.MNIST('./mnist', train=True,\n",
    "                                       transform=torchvision.transforms.ToTensor(), # (0, 1)\n",
    "                                      download=DOWNLOAD_MNIST,\n",
    "                                       one_hot=True)"
   ]
  },
  {
   "cell_type": "code",
   "execution_count": 24,
   "id": "patient-finnish",
   "metadata": {},
   "outputs": [
    {
     "name": "stderr",
     "output_type": "stream",
     "text": [
      "<ipython-input-24-197a7e113298>:11: UserWarning: volatile was removed and now has no effect. Use `with torch.no_grad():` instead.\n",
      "  test_x = Variable(torch.unsqueeze(test_data.test_data, dim=1), volatile=True).type(torch.FloatTensor)[:2000]/255.\n"
     ]
    },
    {
     "name": "stdout",
     "output_type": "stream",
     "text": [
      "Epoch: 0 | train loss: 2.3187 |test accuracy:  tensor(0.1720)\n"
     ]
    },
    {
     "name": "stderr",
     "output_type": "stream",
     "text": [
      "Traceback (most recent call last):\n",
      "  File \"/Users/liujin/opt/anaconda3/envs/pytorch_nogpu/lib/python3.8/multiprocessing/queues.py\", line 235, in _feed\n",
      "    close()\n",
      "  File \"/Users/liujin/opt/anaconda3/envs/pytorch_nogpu/lib/python3.8/multiprocessing/connection.py\", line 177, in close\n",
      "    self._close()\n",
      "  File \"/Users/liujin/opt/anaconda3/envs/pytorch_nogpu/lib/python3.8/multiprocessing/connection.py\", line 361, in _close\n",
      "    _close(self._handle)\n",
      "OSError: [Errno 9] Bad file descriptor\n"
     ]
    },
    {
     "name": "stdout",
     "output_type": "stream",
     "text": [
      "Epoch: 0 | train loss: 0.6429 |test accuracy:  tensor(0.8310)\n",
      "Epoch: 0 | train loss: 0.2623 |test accuracy:  tensor(0.9005)\n",
      "Epoch: 0 | train loss: 0.0737 |test accuracy:  tensor(0.9205)\n",
      "Epoch: 0 | train loss: 0.2327 |test accuracy:  tensor(0.9285)\n",
      "Epoch: 0 | train loss: 0.1152 |test accuracy:  tensor(0.9465)\n",
      "Epoch: 0 | train loss: 0.1407 |test accuracy:  tensor(0.9525)\n",
      "Epoch: 0 | train loss: 0.0763 |test accuracy:  tensor(0.9575)\n",
      "Epoch: 0 | train loss: 0.1380 |test accuracy:  tensor(0.9610)\n",
      "Epoch: 0 | train loss: 0.2165 |test accuracy:  tensor(0.9590)\n",
      "Epoch: 0 | train loss: 0.0962 |test accuracy:  tensor(0.9610)\n",
      "Epoch: 0 | train loss: 0.0660 |test accuracy:  tensor(0.9685)\n",
      "Epoch: 0 | train loss: 0.0150 |test accuracy:  tensor(0.9730)\n",
      "Epoch: 0 | train loss: 0.1453 |test accuracy:  tensor(0.9710)\n",
      "Epoch: 0 | train loss: 0.0990 |test accuracy:  tensor(0.9605)\n",
      "Epoch: 0 | train loss: 0.0459 |test accuracy:  tensor(0.9765)\n",
      "Epoch: 0 | train loss: 0.1821 |test accuracy:  tensor(0.9765)\n",
      "Epoch: 0 | train loss: 0.0417 |test accuracy:  tensor(0.9715)\n",
      "Epoch: 0 | train loss: 0.0232 |test accuracy:  tensor(0.9755)\n",
      "Epoch: 0 | train loss: 0.1307 |test accuracy:  tensor(0.9770)\n",
      "Epoch: 0 | train loss: 0.0179 |test accuracy:  tensor(0.9780)\n",
      "Epoch: 0 | train loss: 0.1302 |test accuracy:  tensor(0.9780)\n",
      "Epoch: 0 | train loss: 0.0208 |test accuracy:  tensor(0.9730)\n",
      "Epoch: 0 | train loss: 0.0597 |test accuracy:  tensor(0.9780)\n",
      "[7 2 1 0 4 1 4 9 5 9] prediction number\n",
      "[7 2 1 0 4 1 4 9 5 9]\n"
     ]
    }
   ],
   "source": [
    "# print(train_data.train_data.size())\n",
    "# print(train_data.train_labels.size())\n",
    "# plt.imshow(train_data.train_data[0].numpy(), cmap='gray')\n",
    "# plt.title('%i' % train_data.train_labels[0])\n",
    "# plt.show()\n",
    "\n",
    "train_loader = Data.DataLoader(dataset=train_data, batch_size=BATCH_SIZE, shuffle=True, num_workers=2)\n",
    "\n",
    "    \n",
    "test_data = torchvision.datasets.MNIST('./mnist', train=False)\n",
    "test_x = Variable(torch.unsqueeze(test_data.test_data, dim=1), volatile=True).type(torch.FloatTensor)[:2000]/255.\n",
    "test_y = test_data.test_labels[:2000]\n",
    "\n",
    "class CNN(nn.Module):\n",
    "    def __init__(self):\n",
    "        super(CNN, self).__init__()\n",
    "        self.conv1 = nn.Sequential(\n",
    "            nn.Conv2d(  # (1, 28, 28)\n",
    "                in_channels=1,\n",
    "                out_channels=16,\n",
    "                kernel_size=5,\n",
    "                stride=1,\n",
    "                padding=2  #if stride=1, padding = (kernel_size -1) / 2 = 2\n",
    "            ), # -> (16, 28, 28)\n",
    "            nn.ReLU(),\n",
    "            nn.MaxPool2d(kernel_size=2) # -> (16, 14, 14)\n",
    "        )\n",
    "        self.conv2 = nn.Sequential( # (16, 14, 14)\n",
    "            nn.Conv2d(16, 32, 5, 1, 2), # -> (32, 14, 14)\n",
    "            nn.ReLU(),\n",
    "            nn.MaxPool2d(2) # -> (32, 7, 7)\n",
    "        )\n",
    "        self.out = nn.Linear(32 * 7 * 7, 10)\n",
    "        \n",
    "    def forward(self, x):\n",
    "        x = self.conv1(x)\n",
    "        x = self.conv2(x)   # (batch, 32, 7, 7)\n",
    "        x = x.view(x.size(0), -1)  # (batch, 32 * 7 * 7)\n",
    "        output = self.out(x)\n",
    "        return output\n",
    "    \n",
    "cnn = CNN()\n",
    "#print(cnn)\n",
    "optimizer = torch.optim.Adam(cnn.parameters(), lr=LR)\n",
    "loss_func = nn.CrossEntropyLoss()\n",
    "\n",
    "\n",
    "for epoch in range(EPOCH):\n",
    "    for step, (batch_x, batch_y) in enumerate(train_loader):\n",
    "        b_x = Variable(batch_x)\n",
    "        b_y = Variable(batch_y)\n",
    "        output = cnn(b_x)\n",
    "        \n",
    "        loss = loss_func(output, b_y)\n",
    "        \n",
    "        optimizer.zero_grad()\n",
    "        loss.backward()\n",
    "        optimizer.step()\n",
    "        \n",
    "        if step % 50 == 0:\n",
    "            test_output = cnn(test_x)\n",
    "            pred_y = torch.max(test_output, 1)[1].data.squeeze()\n",
    "            accuracy = sum(pred_y == test_y) / test_y.size(0)\n",
    "            print('Epoch:', epoch, '| train loss: %.4f' % loss.item(), \n",
    "                  '|test accuracy: ', accuracy)\n",
    "            \n",
    "test_output = cnn(test_x[:10])\n",
    "pred_y = torch.max(test_output, 1)[1].data.numpy().squeeze()\n",
    "print(pred_y, 'prediction number')\n",
    "print(test_y[:10].numpy())"
   ]
  },
  {
   "cell_type": "code",
   "execution_count": null,
   "id": "moral-paper",
   "metadata": {},
   "outputs": [],
   "source": []
  }
 ],
 "metadata": {
  "kernelspec": {
   "display_name": "conda_jupyter",
   "language": "python",
   "name": "conda_jupyter"
  },
  "language_info": {
   "codemirror_mode": {
    "name": "ipython",
    "version": 3
   },
   "file_extension": ".py",
   "mimetype": "text/x-python",
   "name": "python",
   "nbconvert_exporter": "python",
   "pygments_lexer": "ipython3",
   "version": "3.8.5"
  }
 },
 "nbformat": 4,
 "nbformat_minor": 5
}
