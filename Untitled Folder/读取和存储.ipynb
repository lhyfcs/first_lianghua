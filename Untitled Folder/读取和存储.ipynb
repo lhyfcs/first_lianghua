{
 "cells": [
  {
   "cell_type": "code",
   "execution_count": null,
   "id": "stock-safety",
   "metadata": {},
   "outputs": [],
   "source": [
    "import torch\n",
    "import torch.nn.functional as F\n",
    "import torch.nn as nn\n",
    "from torch.autograd import Variable\n",
    "import matplotlib.pyplot as plt\n",
    "\n",
    "torch.manual_seed(1)\n",
    "\n",
    "x = torch.unsqueeze(torch.linspace(-1, 1, 100), dim=1)\n",
    "y = x.pow(2) + 0.2 * torch.randn(x.size()) # noisy y data (tensor), shape(100, 1)\n",
    "x, y = Variable(x), Variable(y)\n",
    "\n",
    "def save():\n",
    "    net2 = nn.Sequential(\n",
    "        nn.Linear(2, 10),\n",
    "        nn.ReLU(),\n",
    "        nn.Linear(10, 2),\n",
    "    )\n",
    "    \n",
    "    optimizer = torch.optim.SGD(net2.parameters(), lr = 0.5)\n",
    "    loss_fn = nn.MSELoss()\n",
    "    \n",
    "    epochs = 200\n",
    "    for epoch in range(epochs):\n",
    "        prediction = net2(x)\n",
    "\n",
    "        loss = loss_fn(prediction, y)\n",
    "        optimizer.zero_grad()\n",
    "        loss.backward()\n",
    "        optimizer.step()\n",
    "    torch.save(net2, 'net.pkl') #entrie net\n",
    "    torch.save(net2.state_dict(), 'net_params.pkl') # parameters\n",
    "    \n",
    "def restore_net():\n",
    "    net3 = torch.load('net.pkl') \n",
    "    \n",
    "def resotre_params():\n",
    "    net4 = nn.Sequential(\n",
    "        nn.Linear(2, 10),\n",
    "        nn.ReLU(),\n",
    "        nn.Linear(10, 2),\n",
    "    )\n",
    "    net4.load_state_dict(torch.load('net_params.pkl')) \n",
    "\n",
    "    "
   ]
  }
 ],
 "metadata": {
  "kernelspec": {
   "display_name": "conda_jupyter",
   "language": "python",
   "name": "conda_jupyter"
  },
  "language_info": {
   "codemirror_mode": {
    "name": "ipython",
    "version": 3
   },
   "file_extension": ".py",
   "mimetype": "text/x-python",
   "name": "python",
   "nbconvert_exporter": "python",
   "pygments_lexer": "ipython3",
   "version": "3.8.5"
  }
 },
 "nbformat": 4,
 "nbformat_minor": 5
}
